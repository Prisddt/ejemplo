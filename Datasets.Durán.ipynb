{
 "cells": [
  {
   "cell_type": "markdown",
   "id": "a0a54a5f",
   "metadata": {},
   "source": [
    "Primera Entrega curso Data science\n",
    "\n",
    "Priscilla Durán Tuninetti"
   ]
  },
  {
   "cell_type": "code",
   "execution_count": 11,
   "id": "c35077bb",
   "metadata": {},
   "outputs": [],
   "source": [
    "#Importación de las librerias\n",
    "import pandas as pd\n",
    "import numpy as np\n",
    "import os"
   ]
  },
  {
   "cell_type": "code",
   "execution_count": 7,
   "id": "4c59f4fb",
   "metadata": {},
   "outputs": [],
   "source": [
    "#Selección la ruta\n",
    "\n",
    "ruta_datasets = 'C:\\\\Users\\\\prisc\\\\OneDrive\\\\Documentos\\\\Data Science\\\\1era entrega'\n",
    "os.chdir(ruta_datasets)"
   ]
  },
  {
   "cell_type": "markdown",
   "id": "3991cd4f",
   "metadata": {},
   "source": [
    "Primer Dataset  \"Calidad del Agua\" \n",
    "\n",
    "Nombre del archivo: \"water_potability.csv\"\n",
    "\n",
    "En este dataset nos brinda variables de análisis físico-químico necesarios para determinar la calidad del agua potable.\n",
    "\n",
    "Cada muestra de agua analizada, es representada en 3276 filas. \n",
    "Los análisis realizados a cada una de estas muestras, representa nuestras variables y se encuentra definidas en 10 columnas.\n",
    "\n",
    "Estos análisis corresponde a los siguientes parámetros: \n",
    "\n",
    "pH: el valor de pH es un parámetro importante para evaluar el equilibrio ácido-base del agua.\n",
    "\n",
    "Hardeness: Es la dureza del agua y es causada principalmente por las sales de calcio y magnesio.\n",
    "\n",
    "Solids: Son los sólidos disueltos totales - TDS\n",
    "\n",
    "Chloramines: El cloro y la cloramina son los principales desinfectantes utilizados en los sistemas públicos de agua. \n",
    "\n",
    "Sulfate: Los sulfatos son sustancias naturales que se encuentran en minerales, suelos y rocas.\n",
    "\n",
    "Conductivity: El agua pura no es un buen conductor de la corriente eléctrica, sino un buen aislante. El aumento de la concentración de iones mejora la conductividad eléctrica del agua. \n",
    "\n",
    "Organic_carbon: El carbono orgánico total (TOC) en las fuentes de agua proviene de materia orgánica natural (NOM) en descomposición, así como de fuentes sintéticas. \n",
    "\n",
    "Trihalomethanes: Los trihalometanos (THM) son sustancias químicas que se pueden encontrar en el agua tratada con cloro.\n",
    "\n",
    "Turbidity: La turbidez del agua depende de la cantidad de materia sólida presente en estado suspendido. \n",
    "\n",
    "Potability: La potabilidad, indica si el agua es segura para el consumo humano donde 1 significa Potable y 0 significa No potable."
   ]
  },
  {
   "cell_type": "code",
   "execution_count": 6,
   "id": "cc169be7",
   "metadata": {},
   "outputs": [
    {
     "name": "stdout",
     "output_type": "stream",
     "text": [
      "         ph    Hardness        Solids  Chloramines     Sulfate  Conductivity  \\\n",
      "0       NaN  204.890455  20791.318981     7.300212  368.516441    564.308654   \n",
      "1  3.716080  129.422921  18630.057858     6.635246         NaN    592.885359   \n",
      "2  8.099124  224.236259  19909.541732     9.275884         NaN    418.606213   \n",
      "3  8.316766  214.373394  22018.417441     8.059332  356.886136    363.266516   \n",
      "4  9.092223  181.101509  17978.986339     6.546600  310.135738    398.410813   \n",
      "\n",
      "   Organic_carbon  Trihalomethanes  Turbidity  Potability  \n",
      "0       10.379783        86.990970   2.963135           0  \n",
      "1       15.180013        56.329076   4.500656           0  \n",
      "2       16.868637        66.420093   3.055934           0  \n",
      "3       18.436524       100.341674   4.628771           0  \n",
      "4       11.558279        31.997993   4.075075           0  \n"
     ]
    }
   ],
   "source": [
    "#levantamos el primer dataset en .csv llamado \"water_potability\"\n",
    "df = pd.read_csv(\"water_potability.csv\",sep = ',')\n",
    "print(df.head())"
   ]
  },
  {
   "cell_type": "markdown",
   "id": "0dc31ddd",
   "metadata": {},
   "source": [
    "Segundo Datasets \"Mantenimiento predictivo de una maquina fresadora\"\n",
    "\n",
    "Nombre del archivo:\"predictive_maintenance.csv\"\n",
    "\n",
    "Este conjunto de datos corresponde a la mantención de una maquina fresadora, el cual nos puede ayudar a determinar el mantenimiento predictivo del equipo antes de presentar una falla.\n",
    "\n",
    "Consta de 10000  análisis de mantención representada en filas y  10 características en columnas, que corresponde a los parámetros evaluados..\n",
    "\n",
    "El detalle de las variables son los siguientes.\n",
    "\n",
    "UDI: identificador único que va del 1 al 10000\n",
    "\n",
    "Product ID: ID del producto que consta de una letra L, M o H para baja (50 % de todos los productos), media (30 %) y alta (20 %) como variantes de calidad del producto y un número de serie específico de la variante.\n",
    "\n",
    "Type: Tipo de producto L, M o H de la columna 2\n",
    "\n",
    "Air tmperature: Temperatura del aire en K, generada mediante un proceso de caminata aleatoria y luego normalizada a una desviación estándar de 2 K alrededor de 300 K.\n",
    "\n",
    "Process temperature: Temperatura del proceso en K, generada mediante un proceso de paseo aleatorio normalizado a una desviación estándar de 1 K, sumada a la temperatura del aire más 10 K.\n",
    "\n",
    "Rotational speed: Velocidad de rotación en rpm calculada a partir de una potencia de 2860 W, superpuesta con un ruido distribuido normalmente\n",
    "\n",
    "Torque (Nm): los valores de torque se distribuyen normalmente en torno a 40 Nm con una SD = 10 Nm y sin valores negativos.\n",
    "\n",
    "Tool wear(min):Desgaste de herramienta en minutos, Las variantes de calidad H/M/L añaden 5/3/2 minutos de desgaste a la herramienta usada en el proceso.\n",
    "\n",
    "Failure Type: Etiqueta de 'fallo de la máquina' que indica si la máquina ha fallado en este punto de datos en particular para cualquiera de los siguientes modos de falla es verdadero."
   ]
  },
  {
   "cell_type": "code",
   "execution_count": 11,
   "id": "dec93723",
   "metadata": {},
   "outputs": [
    {
     "name": "stdout",
     "output_type": "stream",
     "text": [
      "   UDI Product ID Type  Air temperature [K]  Process temperature [K]  \\\n",
      "0    1     M14860    M                298.1                    308.6   \n",
      "1    2     L47181    L                298.2                    308.7   \n",
      "2    3     L47182    L                298.1                    308.5   \n",
      "3    4     L47183    L                298.2                    308.6   \n",
      "4    5     L47184    L                298.2                    308.7   \n",
      "\n",
      "   Rotational speed [rpm]  Torque [Nm]  Tool wear [min]  Target Failure Type  \n",
      "0                    1551         42.8                0       0   No Failure  \n",
      "1                    1408         46.3                3       0   No Failure  \n",
      "2                    1498         49.4                5       0   No Failure  \n",
      "3                    1433         39.5                7       0   No Failure  \n",
      "4                    1408         40.0                9       0   No Failure  \n"
     ]
    }
   ],
   "source": [
    "#levantamos el segundo dataset en .csv llamado \"predictive_maintenance.csv\"\n",
    "df = pd.read_csv(\"predictive_maintenance.csv\",sep = ',')\n",
    "print(df.head())"
   ]
  },
  {
   "cell_type": "markdown",
   "id": "8f64cc42",
   "metadata": {},
   "source": [
    "Tercer Dataset  \"Calidad del Aire\" \n",
    "\n",
    "Nombre del archivo: \"quality_air.csv\"\n",
    "\n",
    "Este conjunto de datos contiene datos de calidad del aire y AQI (índice de calidad del aire) de varias estaciones en varias ciudades de la India, evaluadas entre los años 2015 y 2020.\n",
    "\n",
    "Cada medición que detecta el sensor de aire, es representada en 29531 filas. \n",
    "Los análisis realizados a cada medición, se encuentra definida en 15 columnas.\n",
    "\n",
    "Estos análisis corresponde a los siguientes parámetros: \n",
    "\n",
    "city: ciudad donde se realizaron las medidas\n",
    "Date: fecha en que se realizó la medición.\n",
    "concentraciones de:\n",
    "PM2.5:Material particulado igual o inferior a 2,5 micras\n",
    "PM10:material particulado igual o inferior a 10 micras\n",
    "NO: Oxido de nitrogeno\n",
    "NO2: dioxido de nitrogeno\n",
    "NOx:oxido nitrico\n",
    "NH3: amoniaco\n",
    "CO: oxido de carbono\n",
    "SO2: dioxido de sulfuro\n",
    "O3: ozono\n",
    "Benzene: benceno\n",
    "Toluene: tolueno\n",
    "Xylene: xileno\n",
    "AQI: indice de la calidad del aire"
   ]
  },
  {
   "cell_type": "code",
   "execution_count": 5,
   "id": "cfd50326",
   "metadata": {},
   "outputs": [
    {
     "name": "stdout",
     "output_type": "stream",
     "text": [
      "        City        Date  PM2.5  PM10     NO    NO2    NOx  NH3     CO    SO2  \\\n",
      "0  Ahmedabad  2015-01-01    NaN   NaN   0.92  18.22  17.15  NaN   0.92  27.64   \n",
      "1  Ahmedabad  2015-01-02    NaN   NaN   0.97  15.69  16.46  NaN   0.97  24.55   \n",
      "2  Ahmedabad  2015-01-03    NaN   NaN  17.40  19.30  29.70  NaN  17.40  29.07   \n",
      "3  Ahmedabad  2015-01-04    NaN   NaN   1.70  18.48  17.97  NaN   1.70  18.59   \n",
      "4  Ahmedabad  2015-01-05    NaN   NaN  22.10  21.42  37.76  NaN  22.10  39.33   \n",
      "\n",
      "       O3  Benzene  Toluene  Xylene  AQI AQI_Bucket  \n",
      "0  133.36     0.00     0.02    0.00  NaN        NaN  \n",
      "1   34.06     3.68     5.50    3.77  NaN        NaN  \n",
      "2   30.70     6.80    16.40    2.25  NaN        NaN  \n",
      "3   36.08     4.43    10.14    1.00  NaN        NaN  \n",
      "4   39.31     7.01    18.89    2.78  NaN        NaN  \n"
     ]
    }
   ],
   "source": [
    "#levantamos el tercer dataset en .csv llamado \"quality_air.csv\"\n",
    "df = pd.read_csv(\"quality_air.csv\",sep = ',')\n",
    "print(df.head())"
   ]
  }
 ],
 "metadata": {
  "kernelspec": {
   "display_name": "Python 3 (ipykernel)",
   "language": "python",
   "name": "python3"
  },
  "language_info": {
   "codemirror_mode": {
    "name": "ipython",
    "version": 3
   },
   "file_extension": ".py",
   "mimetype": "text/x-python",
   "name": "python",
   "nbconvert_exporter": "python",
   "pygments_lexer": "ipython3",
   "version": "3.11.4"
  }
 },
 "nbformat": 4,
 "nbformat_minor": 5
}
